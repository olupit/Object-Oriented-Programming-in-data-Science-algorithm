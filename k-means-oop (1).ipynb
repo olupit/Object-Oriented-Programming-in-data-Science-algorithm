{
 "cells": [
  {
   "cell_type": "markdown",
   "id": "ee815df2",
   "metadata": {},
   "source": [
    "### Object Oriented Programming Lab for data science\n"
   ]
  },
  {
   "cell_type": "markdown",
   "id": "c6d9f296",
   "metadata": {},
   "source": [
    "#### Objectives\n",
    "K-means clustering is the most commonly used unsupervised machine learning algorithm for partitioning a given data set into a set of k groups (i.e. k clusters). In this lab, you will practice how to implement k-means clustering in Python Object-Oriented Programming techniques. You do not need to know about the k-means clustering algorithm but you should complete the class definition, instance and object creation and some functions to run the program. We have provided a dataset called \"sales.csv\" that you will use to implement the K-means clustering.\n",
    "\n",
    "The script is partially completed and there are missing codes in this script and your task is to complete the code as insturcted: "
   ]
  },
  {
   "cell_type": "markdown",
   "id": "c799d6c0",
   "metadata": {},
   "source": [
    "Task 1: The first task is to write a Python class. Name this class \"KMeans\".\n",
    "\n",
    "1. Inside the class, define a constructor with two parameters, called \"file_name\" and \"n_cluster\". \n",
    "2. Inside the constructor declare three variables and name those variables as: labels, attributes and centroids; and initialise them with value \"None\". \n",
    "3. Declare an empty dictionaly called \"clusters\"\n",
    "\n",
    "4. Now, the body of the constructor should call the following functions:\n",
    "    - a) The read_data(paramter name) method with one parameter that will reference the constructure parameter \"file_name\",\n",
    "    - b) The create_cluster(parameter name) method with one paramter that will refernece the constructor paramter \"n_clusters\".\n",
    "    - c) The set_initial_centroids(parameter name) method with one paramter that will refernece the constructor paramter \"n_clusters\".\n"
   ]
  },
  {
   "cell_type": "code",
   "execution_count": 1,
   "id": "294d42f6",
   "metadata": {},
   "outputs": [],
   "source": [
    "import numpy as np\n",
    "\n",
    "# Code 1: Define the class here...\n",
    "class KMeans:\n",
    "    # Code 2: Define the class constructor here...\n",
    "    def __init__(self, file_name, n_clusters):\n",
    "        # Code 3: declare variable 1\n",
    "        # Code 4: declare variable 2\n",
    "        # Code 5: declare variable 3\n",
    "        # Code 6: declare an empty dictionay\n",
    "        self.labels = None\n",
    "        self.attributes  = None\n",
    "        self.centroids = None\n",
    "        self.clusters = {}\n",
    "\n",
    "        # Code 7: call function 1\n",
    "        # Code 8: call function 2\n",
    "        # Code 9: call function 3\n",
    "        self.read_data(file_name)\n",
    "        self.create_clusters(n_clusters)\n",
    "        self.set_initial_centroids(n_clusters)\n",
    "    #-------------------------------------------------------\n",
    "\n",
    "    def read_data(self, file_name):\n",
    "        data = np.loadtxt(file_name, dtype=str, delimiter=',', skiprows=1)\n",
    "        self.labels = data[:, 0]\n",
    "        self.attributes = data[:, 1:].astype('int32') \n",
    "    #-------------------------------------------------------\n",
    "    \n",
    "    def create_clusters(self, n_clusters):\n",
    "        for n in range(n_clusters):\n",
    "            self.clusters[n] = {'labels': [], 'attributes': []}\n",
    "    #-------------------------------------------------------\n",
    "\n",
    "    def set_initial_centroids(self, n_clusters):\n",
    "        rand_idxs = np.random.choice(self.attributes.shape[0], n_clusters, replace=False)\n",
    "        self.centroids = self.attributes[rand_idxs]\n",
    "    #-------------------------------------------------------\n",
    "\n",
    "    def get_distance(self, record, centroid):\n",
    "        return np.sum(np.abs(record - centroid))\n",
    "    #-------------------------------------------------------\n",
    "\n",
    "    def get_new_centroids(self):\n",
    "        new_centroids = np.zeros(self.centroids.shape)\n",
    "        counter = 0\n",
    "        for cluster in self.clusters.values():\n",
    "            new_centroids[counter] = np.mean(cluster['attributes'], axis=0)\n",
    "            counter += 1\n",
    "        return new_centroids\n",
    "    #-------------------------------------------------------\n",
    "\n",
    "    def build_clusters(self):\n",
    "        while True:\n",
    "            for cluster in self.clusters.values():\n",
    "                cluster['labels'] = []\n",
    "                cluster['attributes'] = []\n",
    "                \n",
    "            for record_idx, record in enumerate(self.attributes):\n",
    "                distances = []\n",
    "                for centroid in self.centroids:\n",
    "                    distances.append(self.get_distance(record, centroid))\n",
    "                min_dist_cluster = np.argmin(distances)\n",
    "                self.clusters[min_dist_cluster]['labels'].append(self.labels[record_idx])\n",
    "                self.clusters[min_dist_cluster]['attributes'].append(record)\n",
    "\n",
    "            new_centroids = self.get_new_centroids()\n",
    "            \n",
    "            if(np.array_equal(self.centroids, new_centroids)):\n",
    "                break  # if no change in clusters\n",
    "\n",
    "            self.centroids = new_centroids\n",
    "   \t#-------------------------------------------------------\n",
    "\n",
    "    def print_results(self):\n",
    "        for cluster in self.clusters:\n",
    "            labels = self.clusters[cluster]['labels']\n",
    "            print('Cluster', cluster, 'data:')\n",
    "            print('-'*15)\n",
    "            print(labels)\n",
    "            print()\n"
   ]
  },
  {
   "cell_type": "markdown",
   "id": "604bad7f",
   "metadata": {},
   "source": [
    "Task 2: Create Class Object\n",
    "1. Declare a variable that will take a user input to create number of cluster\n",
    "2. Create the class object and pass the two argument value: \n",
    "    - a) The first argument will pass the data file name and path to the constructor and the second argument will pass the value taken from the user to create a number of cluster. The declaration should be like this: n_clusters = k, where k is the variable that has taken user input. Finally, store the class object to a new object variable called \"k_means\"\n",
    "    - b) Using the claas object variable call the method \"build_clusters()\" and \"print_reults()\"\n",
    "    - c) Finally, run the code and it should ask to input k value. If everything is correct, then the program will create number of cluster from the data."
   ]
  },
  {
   "cell_type": "code",
   "execution_count": 2,
   "id": "720bef8e",
   "metadata": {},
   "outputs": [
    {
     "name": "stdout",
     "output_type": "stream",
     "text": [
      "Enter your K: 2\n",
      "Cluster 0 data:\n",
      "---------------\n",
      "['P1', 'P2', 'P3', 'P4', 'P5', 'P6', 'P7', 'P8', 'P9', 'P10', 'P11', 'P12', 'P13', 'P14', 'P20', 'P21', 'P22', 'P23', 'P26', 'P29', 'P31', 'P32', 'P33', 'P50', 'P51', 'P53', 'P59', 'P62', 'P65', 'P68', 'P71', 'P74', 'P77', 'P81', 'P82', 'P91', 'P93', 'P94', 'P95', 'P98', 'P99', 'P100', 'P103', 'P104', 'P105', 'P106', 'P107', 'P108', 'P109', 'P110', 'P111', 'P114', 'P115', 'P116', 'P117', 'P118', 'P121', 'P122', 'P123', 'P124', 'P125', 'P126', 'P127', 'P144', 'P145', 'P146', 'P147', 'P148', 'P149', 'P150', 'P151', 'P152', 'P153', 'P154', 'P155', 'P156', 'P157', 'P158', 'P159', 'P160', 'P161', 'P162', 'P163', 'P164', 'P165', 'P166', 'P171', 'P195', 'P197', 'P198', 'P199', 'P200']\n",
      "\n",
      "Cluster 1 data:\n",
      "---------------\n",
      "['P15', 'P16', 'P17', 'P18', 'P19', 'P24', 'P25', 'P27', 'P28', 'P30', 'P34', 'P35', 'P36', 'P37', 'P38', 'P39', 'P40', 'P41', 'P42', 'P43', 'P44', 'P45', 'P46', 'P47', 'P48', 'P49', 'P52', 'P54', 'P55', 'P56', 'P57', 'P58', 'P60', 'P61', 'P63', 'P64', 'P66', 'P67', 'P69', 'P70', 'P72', 'P73', 'P75', 'P76', 'P78', 'P79', 'P80', 'P83', 'P84', 'P85', 'P86', 'P87', 'P88', 'P89', 'P90', 'P92', 'P96', 'P97', 'P101', 'P102', 'P112', 'P113', 'P119', 'P120', 'P128', 'P129', 'P130', 'P131', 'P132', 'P133', 'P134', 'P135', 'P136', 'P137', 'P138', 'P139', 'P140', 'P141', 'P142', 'P143', 'P167', 'P168', 'P169', 'P170', 'P172', 'P173', 'P174', 'P175', 'P176', 'P177', 'P178', 'P179', 'P180', 'P181', 'P182', 'P183', 'P184', 'P185', 'P186', 'P187', 'P188', 'P189', 'P190', 'P191', 'P192', 'P193', 'P194', 'P196']\n",
      "\n"
     ]
    }
   ],
   "source": [
    "# Code 10: Declare a variable that will take user input to create cluster\n",
    "# Code 11: Create class object and store it to a new cobject variable\n",
    "# Code 12: Call the build_clusters() method\n",
    "# Code 13: Call the print_results() method\n",
    "k = int(input('Enter your K: '))\n",
    "k_means = KMeans('sales2.csv', n_clusters=k)\n",
    "k_means.build_clusters()\n",
    "k_means.print_results()"
   ]
  },
  {
   "cell_type": "markdown",
   "id": "0b919fdf",
   "metadata": {},
   "source": [
    "#### Created by Dr Nazmul Hussain"
   ]
  }
 ],
 "metadata": {
  "kernelspec": {
   "display_name": "Python 3",
   "language": "python",
   "name": "python3"
  },
  "language_info": {
   "codemirror_mode": {
    "name": "ipython",
    "version": 3
   },
   "file_extension": ".py",
   "mimetype": "text/x-python",
   "name": "python",
   "nbconvert_exporter": "python",
   "pygments_lexer": "ipython3",
   "version": "3.8.8"
  }
 },
 "nbformat": 4,
 "nbformat_minor": 5
}
